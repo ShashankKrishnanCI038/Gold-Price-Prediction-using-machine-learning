{
 "cells": [
  {
   "cell_type": "code",
   "execution_count": null,
   "id": "f622603e",
   "metadata": {},
   "outputs": [],
   "source": [
    "#pip install <library name>"
   ]
  },
  {
   "cell_type": "code",
   "execution_count": 1,
   "id": "ef68ab69",
   "metadata": {},
   "outputs": [],
   "source": [
    "import numpy as np\n",
    "import pandas as pd\n",
    "import matplotlib.pyplot as plt\n",
    "import seaborn as sns\n",
    "from sklearn.model_selection import train_test_split\n",
    "from sklearn import metrics\n",
    "from sklearn.metrics import accuracy_score\n",
    "import seaborn as sns\n",
    "import matplotlib.pyplot as plt\n",
    "%matplotlib inline\n",
    "from sklearn.ensemble import RandomForestRegressor"
   ]
  },
  {
   "cell_type": "code",
   "execution_count": 2,
   "id": "07b371d2",
   "metadata": {},
   "outputs": [],
   "source": [
    "data = pd.read_csv(r\"C:\\Users\\SHASHANK K\\Downloads\\Gold_Dataset.csv\")"
   ]
  },
  {
   "cell_type": "code",
   "execution_count": 3,
   "id": "b875719c",
   "metadata": {},
   "outputs": [
    {
     "data": {
      "text/html": [
       "<div>\n",
       "<style scoped>\n",
       "    .dataframe tbody tr th:only-of-type {\n",
       "        vertical-align: middle;\n",
       "    }\n",
       "\n",
       "    .dataframe tbody tr th {\n",
       "        vertical-align: top;\n",
       "    }\n",
       "\n",
       "    .dataframe thead th {\n",
       "        text-align: right;\n",
       "    }\n",
       "</style>\n",
       "<table border=\"1\" class=\"dataframe\">\n",
       "  <thead>\n",
       "    <tr style=\"text-align: right;\">\n",
       "      <th></th>\n",
       "      <th>Date</th>\n",
       "      <th>Close</th>\n",
       "      <th>Volume</th>\n",
       "      <th>Open</th>\n",
       "      <th>High</th>\n",
       "      <th>Low</th>\n",
       "    </tr>\n",
       "  </thead>\n",
       "  <tbody>\n",
       "    <tr>\n",
       "      <th>0</th>\n",
       "      <td>8/30/2000</td>\n",
       "      <td>273.899994</td>\n",
       "      <td>0.0</td>\n",
       "      <td>273.899994</td>\n",
       "      <td>273.899994</td>\n",
       "      <td>273.899994</td>\n",
       "    </tr>\n",
       "    <tr>\n",
       "      <th>1</th>\n",
       "      <td>8/31/2000</td>\n",
       "      <td>278.299988</td>\n",
       "      <td>0.0</td>\n",
       "      <td>274.799988</td>\n",
       "      <td>278.299988</td>\n",
       "      <td>274.799988</td>\n",
       "    </tr>\n",
       "    <tr>\n",
       "      <th>2</th>\n",
       "      <td>9/1/2000</td>\n",
       "      <td>277.000000</td>\n",
       "      <td>0.0</td>\n",
       "      <td>277.000000</td>\n",
       "      <td>277.000000</td>\n",
       "      <td>277.000000</td>\n",
       "    </tr>\n",
       "    <tr>\n",
       "      <th>3</th>\n",
       "      <td>9/4/2000</td>\n",
       "      <td>NaN</td>\n",
       "      <td>NaN</td>\n",
       "      <td>NaN</td>\n",
       "      <td>NaN</td>\n",
       "      <td>NaN</td>\n",
       "    </tr>\n",
       "    <tr>\n",
       "      <th>4</th>\n",
       "      <td>9/5/2000</td>\n",
       "      <td>275.799988</td>\n",
       "      <td>2.0</td>\n",
       "      <td>275.799988</td>\n",
       "      <td>275.799988</td>\n",
       "      <td>275.799988</td>\n",
       "    </tr>\n",
       "  </tbody>\n",
       "</table>\n",
       "</div>"
      ],
      "text/plain": [
       "        Date       Close  Volume        Open        High         Low\n",
       "0  8/30/2000  273.899994     0.0  273.899994  273.899994  273.899994\n",
       "1  8/31/2000  278.299988     0.0  274.799988  278.299988  274.799988\n",
       "2   9/1/2000  277.000000     0.0  277.000000  277.000000  277.000000\n",
       "3   9/4/2000         NaN     NaN         NaN         NaN         NaN\n",
       "4   9/5/2000  275.799988     2.0  275.799988  275.799988  275.799988"
      ]
     },
     "execution_count": 3,
     "metadata": {},
     "output_type": "execute_result"
    }
   ],
   "source": [
    "data.head()"
   ]
  },
  {
   "cell_type": "code",
   "execution_count": 4,
   "id": "bb37fa1c",
   "metadata": {},
   "outputs": [
    {
     "data": {
      "text/html": [
       "<div>\n",
       "<style scoped>\n",
       "    .dataframe tbody tr th:only-of-type {\n",
       "        vertical-align: middle;\n",
       "    }\n",
       "\n",
       "    .dataframe tbody tr th {\n",
       "        vertical-align: top;\n",
       "    }\n",
       "\n",
       "    .dataframe thead th {\n",
       "        text-align: right;\n",
       "    }\n",
       "</style>\n",
       "<table border=\"1\" class=\"dataframe\">\n",
       "  <thead>\n",
       "    <tr style=\"text-align: right;\">\n",
       "      <th></th>\n",
       "      <th>Date</th>\n",
       "      <th>Close</th>\n",
       "      <th>Volume</th>\n",
       "      <th>Open</th>\n",
       "      <th>High</th>\n",
       "      <th>Low</th>\n",
       "    </tr>\n",
       "  </thead>\n",
       "  <tbody>\n",
       "    <tr>\n",
       "      <th>7859</th>\n",
       "      <td>10/24/2022</td>\n",
       "      <td>1654.1</td>\n",
       "      <td>167448.0</td>\n",
       "      <td>1662.9</td>\n",
       "      <td>1675.5</td>\n",
       "      <td>1648.0</td>\n",
       "    </tr>\n",
       "    <tr>\n",
       "      <th>7860</th>\n",
       "      <td>10/25/2022</td>\n",
       "      <td>1658.0</td>\n",
       "      <td>178706.0</td>\n",
       "      <td>1654.5</td>\n",
       "      <td>1666.8</td>\n",
       "      <td>1641.2</td>\n",
       "    </tr>\n",
       "    <tr>\n",
       "      <th>7861</th>\n",
       "      <td>10/26/2022</td>\n",
       "      <td>1669.2</td>\n",
       "      <td>183453.0</td>\n",
       "      <td>1657.7</td>\n",
       "      <td>1679.4</td>\n",
       "      <td>1653.8</td>\n",
       "    </tr>\n",
       "    <tr>\n",
       "      <th>7862</th>\n",
       "      <td>10/27/2022</td>\n",
       "      <td>1668.8</td>\n",
       "      <td>180599.0</td>\n",
       "      <td>1668.8</td>\n",
       "      <td>1674.8</td>\n",
       "      <td>1658.5</td>\n",
       "    </tr>\n",
       "    <tr>\n",
       "      <th>7863</th>\n",
       "      <td>10/28/2022</td>\n",
       "      <td>1648.3</td>\n",
       "      <td>186519.0</td>\n",
       "      <td>1667.2</td>\n",
       "      <td>1670.9</td>\n",
       "      <td>1640.7</td>\n",
       "    </tr>\n",
       "  </tbody>\n",
       "</table>\n",
       "</div>"
      ],
      "text/plain": [
       "            Date   Close    Volume    Open    High     Low\n",
       "7859  10/24/2022  1654.1  167448.0  1662.9  1675.5  1648.0\n",
       "7860  10/25/2022  1658.0  178706.0  1654.5  1666.8  1641.2\n",
       "7861  10/26/2022  1669.2  183453.0  1657.7  1679.4  1653.8\n",
       "7862  10/27/2022  1668.8  180599.0  1668.8  1674.8  1658.5\n",
       "7863  10/28/2022  1648.3  186519.0  1667.2  1670.9  1640.7"
      ]
     },
     "execution_count": 4,
     "metadata": {},
     "output_type": "execute_result"
    }
   ],
   "source": [
    "data.tail()"
   ]
  },
  {
   "cell_type": "code",
   "execution_count": 5,
   "id": "eb8d09cf",
   "metadata": {},
   "outputs": [
    {
     "data": {
      "text/plain": [
       "(7864, 6)"
      ]
     },
     "execution_count": 5,
     "metadata": {},
     "output_type": "execute_result"
    }
   ],
   "source": [
    "data.shape"
   ]
  },
  {
   "cell_type": "code",
   "execution_count": 6,
   "id": "60e9f417",
   "metadata": {},
   "outputs": [
    {
     "name": "stdout",
     "output_type": "stream",
     "text": [
      "<class 'pandas.core.frame.DataFrame'>\n",
      "RangeIndex: 7864 entries, 0 to 7863\n",
      "Data columns (total 6 columns):\n",
      " #   Column  Non-Null Count  Dtype  \n",
      "---  ------  --------------  -----  \n",
      " 0   Date    7864 non-null   object \n",
      " 1   Close   7752 non-null   float64\n",
      " 2   Volume  7713 non-null   float64\n",
      " 3   Open    7752 non-null   float64\n",
      " 4   High    7752 non-null   float64\n",
      " 5   Low     7752 non-null   float64\n",
      "dtypes: float64(5), object(1)\n",
      "memory usage: 368.8+ KB\n"
     ]
    }
   ],
   "source": [
    "data.info()"
   ]
  },
  {
   "cell_type": "code",
   "execution_count": 7,
   "id": "675a4a21",
   "metadata": {},
   "outputs": [
    {
     "data": {
      "text/plain": [
       "Date       object\n",
       "Close     float64\n",
       "Volume    float64\n",
       "Open      float64\n",
       "High      float64\n",
       "Low       float64\n",
       "dtype: object"
      ]
     },
     "execution_count": 7,
     "metadata": {},
     "output_type": "execute_result"
    }
   ],
   "source": [
    "data.dtypes"
   ]
  },
  {
   "cell_type": "code",
   "execution_count": 8,
   "id": "4a3c0a33",
   "metadata": {},
   "outputs": [
    {
     "data": {
      "text/plain": [
       "<Axes: >"
      ]
     },
     "execution_count": 8,
     "metadata": {},
     "output_type": "execute_result"
    },
    {
     "data": {
      "image/png": "[encoded data removed]",
      "text/plain": [
       "<Figure size 640x480 with 2 Axes>"
      ]
     },
     "metadata": {},
     "output_type": "display_data"
    }
   ],
   "source": [
    "sns.heatmap(data.isnull(), yticklabels=False, cmap='coolwarm')"
   ]
  },
  {
   "cell_type": "code",
   "execution_count": 9,
   "id": "d21f7d68",
   "metadata": {},
   "outputs": [
    {
     "data": {
      "text/plain": [
       "Date        0\n",
       "Close     112\n",
       "Volume    151\n",
       "Open      112\n",
       "High      112\n",
       "Low       112\n",
       "dtype: int64"
      ]
     },
     "execution_count": 9,
     "metadata": {},
     "output_type": "execute_result"
    }
   ],
   "source": [
    "data.isnull().sum()"
   ]
  },
  {
   "cell_type": "code",
   "execution_count": 10,
   "id": "8835d3cb",
   "metadata": {},
   "outputs": [],
   "source": [
    "data.dropna(inplace=True)"
   ]
  },
  {
   "cell_type": "code",
   "execution_count": 11,
   "id": "845ea520",
   "metadata": {},
   "outputs": [
    {
     "data": {
      "text/plain": [
       "Date      0\n",
       "Close     0\n",
       "Volume    0\n",
       "Open      0\n",
       "High      0\n",
       "Low       0\n",
       "dtype: int64"
      ]
     },
     "execution_count": 11,
     "metadata": {},
     "output_type": "execute_result"
    }
   ],
   "source": [
    "data.isnull().sum()"
   ]
  },
  {
   "cell_type": "code",
   "execution_count": 12,
   "id": "431a342d",
   "metadata": {},
   "outputs": [
    {
     "data": {
      "text/plain": [
       "(7713, 6)"
      ]
     },
     "execution_count": 12,
     "metadata": {},
     "output_type": "execute_result"
    }
   ],
   "source": [
    "data.shape"
   ]
  },
  {
   "cell_type": "code",
   "execution_count": 13,
   "id": "d032239f",
   "metadata": {},
   "outputs": [
    {
     "data": {
      "text/html": [
       "<div>\n",
       "<style scoped>\n",
       "    .dataframe tbody tr th:only-of-type {\n",
       "        vertical-align: middle;\n",
       "    }\n",
       "\n",
       "    .dataframe tbody tr th {\n",
       "        vertical-align: top;\n",
       "    }\n",
       "\n",
       "    .dataframe thead th {\n",
       "        text-align: right;\n",
       "    }\n",
       "</style>\n",
       "<table border=\"1\" class=\"dataframe\">\n",
       "  <thead>\n",
       "    <tr style=\"text-align: right;\">\n",
       "      <th></th>\n",
       "      <th>Date</th>\n",
       "      <th>Close</th>\n",
       "      <th>Volume</th>\n",
       "      <th>Open</th>\n",
       "      <th>High</th>\n",
       "      <th>Low</th>\n",
       "    </tr>\n",
       "  </thead>\n",
       "  <tbody>\n",
       "    <tr>\n",
       "      <th>0</th>\n",
       "      <td>8/30/2000</td>\n",
       "      <td>273.899994</td>\n",
       "      <td>0.0</td>\n",
       "      <td>273.899994</td>\n",
       "      <td>273.899994</td>\n",
       "      <td>273.899994</td>\n",
       "    </tr>\n",
       "    <tr>\n",
       "      <th>1</th>\n",
       "      <td>8/31/2000</td>\n",
       "      <td>278.299988</td>\n",
       "      <td>0.0</td>\n",
       "      <td>274.799988</td>\n",
       "      <td>278.299988</td>\n",
       "      <td>274.799988</td>\n",
       "    </tr>\n",
       "    <tr>\n",
       "      <th>2</th>\n",
       "      <td>9/1/2000</td>\n",
       "      <td>277.000000</td>\n",
       "      <td>0.0</td>\n",
       "      <td>277.000000</td>\n",
       "      <td>277.000000</td>\n",
       "      <td>277.000000</td>\n",
       "    </tr>\n",
       "    <tr>\n",
       "      <th>4</th>\n",
       "      <td>9/5/2000</td>\n",
       "      <td>275.799988</td>\n",
       "      <td>2.0</td>\n",
       "      <td>275.799988</td>\n",
       "      <td>275.799988</td>\n",
       "      <td>275.799988</td>\n",
       "    </tr>\n",
       "    <tr>\n",
       "      <th>5</th>\n",
       "      <td>9/6/2000</td>\n",
       "      <td>274.200012</td>\n",
       "      <td>0.0</td>\n",
       "      <td>274.200012</td>\n",
       "      <td>274.200012</td>\n",
       "      <td>274.200012</td>\n",
       "    </tr>\n",
       "    <tr>\n",
       "      <th>...</th>\n",
       "      <td>...</td>\n",
       "      <td>...</td>\n",
       "      <td>...</td>\n",
       "      <td>...</td>\n",
       "      <td>...</td>\n",
       "      <td>...</td>\n",
       "    </tr>\n",
       "    <tr>\n",
       "      <th>7859</th>\n",
       "      <td>10/24/2022</td>\n",
       "      <td>1654.100000</td>\n",
       "      <td>167448.0</td>\n",
       "      <td>1662.900000</td>\n",
       "      <td>1675.500000</td>\n",
       "      <td>1648.000000</td>\n",
       "    </tr>\n",
       "    <tr>\n",
       "      <th>7860</th>\n",
       "      <td>10/25/2022</td>\n",
       "      <td>1658.000000</td>\n",
       "      <td>178706.0</td>\n",
       "      <td>1654.500000</td>\n",
       "      <td>1666.800000</td>\n",
       "      <td>1641.200000</td>\n",
       "    </tr>\n",
       "    <tr>\n",
       "      <th>7861</th>\n",
       "      <td>10/26/2022</td>\n",
       "      <td>1669.200000</td>\n",
       "      <td>183453.0</td>\n",
       "      <td>1657.700000</td>\n",
       "      <td>1679.400000</td>\n",
       "      <td>1653.800000</td>\n",
       "    </tr>\n",
       "    <tr>\n",
       "      <th>7862</th>\n",
       "      <td>10/27/2022</td>\n",
       "      <td>1668.800000</td>\n",
       "      <td>180599.0</td>\n",
       "      <td>1668.800000</td>\n",
       "      <td>1674.800000</td>\n",
       "      <td>1658.500000</td>\n",
       "    </tr>\n",
       "    <tr>\n",
       "      <th>7863</th>\n",
       "      <td>10/28/2022</td>\n",
       "      <td>1648.300000</td>\n",
       "      <td>186519.0</td>\n",
       "      <td>1667.200000</td>\n",
       "      <td>1670.900000</td>\n",
       "      <td>1640.700000</td>\n",
       "    </tr>\n",
       "  </tbody>\n",
       "</table>\n",
       "<p>7713 rows × 6 columns</p>\n",
       "</div>"
      ],
      "text/plain": [
       "            Date        Close    Volume         Open         High          Low\n",
       "0      8/30/2000   273.899994       0.0   273.899994   273.899994   273.899994\n",
       "1      8/31/2000   278.299988       0.0   274.799988   278.299988   274.799988\n",
       "2       9/1/2000   277.000000       0.0   277.000000   277.000000   277.000000\n",
       "4       9/5/2000   275.799988       2.0   275.799988   275.799988   275.799988\n",
       "5       9/6/2000   274.200012       0.0   274.200012   274.200012   274.200012\n",
       "...          ...          ...       ...          ...          ...          ...\n",
       "7859  10/24/2022  1654.100000  167448.0  1662.900000  1675.500000  1648.000000\n",
       "7860  10/25/2022  1658.000000  178706.0  1654.500000  1666.800000  1641.200000\n",
       "7861  10/26/2022  1669.200000  183453.0  1657.700000  1679.400000  1653.800000\n",
       "7862  10/27/2022  1668.800000  180599.0  1668.800000  1674.800000  1658.500000\n",
       "7863  10/28/2022  1648.300000  186519.0  1667.200000  1670.900000  1640.700000\n",
       "\n",
       "[7713 rows x 6 columns]"
      ]
     },
     "execution_count": 13,
     "metadata": {},
     "output_type": "execute_result"
    }
   ],
   "source": [
    "data"
   ]
  },
  {
   "cell_type": "code",
   "execution_count": 14,
   "id": "fa015c2b",
   "metadata": {},
   "outputs": [
    {
     "name": "stdout",
     "output_type": "stream",
     "text": [
      "<class 'pandas.core.frame.DataFrame'>\n",
      "Int64Index: 7713 entries, 0 to 7863\n",
      "Data columns (total 6 columns):\n",
      " #   Column  Non-Null Count  Dtype  \n",
      "---  ------  --------------  -----  \n",
      " 0   Date    7713 non-null   object \n",
      " 1   Close   7713 non-null   float64\n",
      " 2   Volume  7713 non-null   float64\n",
      " 3   Open    7713 non-null   float64\n",
      " 4   High    7713 non-null   float64\n",
      " 5   Low     7713 non-null   float64\n",
      "dtypes: float64(5), object(1)\n",
      "memory usage: 421.8+ KB\n"
     ]
    }
   ],
   "source": [
    "data.info()"
   ]
  },
  {
   "cell_type": "code",
   "execution_count": 15,
   "id": "ed652ffc",
   "metadata": {},
   "outputs": [
    {
     "data": {
      "text/html": [
       "<div>\n",
       "<style scoped>\n",
       "    .dataframe tbody tr th:only-of-type {\n",
       "        vertical-align: middle;\n",
       "    }\n",
       "\n",
       "    .dataframe tbody tr th {\n",
       "        vertical-align: top;\n",
       "    }\n",
       "\n",
       "    .dataframe thead th {\n",
       "        text-align: right;\n",
       "    }\n",
       "</style>\n",
       "<table border=\"1\" class=\"dataframe\">\n",
       "  <thead>\n",
       "    <tr style=\"text-align: right;\">\n",
       "      <th></th>\n",
       "      <th>Close</th>\n",
       "      <th>Volume</th>\n",
       "      <th>Open</th>\n",
       "      <th>High</th>\n",
       "      <th>Low</th>\n",
       "    </tr>\n",
       "  </thead>\n",
       "  <tbody>\n",
       "    <tr>\n",
       "      <th>count</th>\n",
       "      <td>7713.000000</td>\n",
       "      <td>7713.000000</td>\n",
       "      <td>7713.000000</td>\n",
       "      <td>7713.000000</td>\n",
       "      <td>7713.000000</td>\n",
       "    </tr>\n",
       "    <tr>\n",
       "      <th>mean</th>\n",
       "      <td>1155.235226</td>\n",
       "      <td>62075.024115</td>\n",
       "      <td>1155.391793</td>\n",
       "      <td>1161.947206</td>\n",
       "      <td>1148.388280</td>\n",
       "    </tr>\n",
       "    <tr>\n",
       "      <th>std</th>\n",
       "      <td>471.495071</td>\n",
       "      <td>102180.191771</td>\n",
       "      <td>471.663195</td>\n",
       "      <td>474.882330</td>\n",
       "      <td>467.988318</td>\n",
       "    </tr>\n",
       "    <tr>\n",
       "      <th>min</th>\n",
       "      <td>255.100006</td>\n",
       "      <td>0.000000</td>\n",
       "      <td>255.000000</td>\n",
       "      <td>256.100006</td>\n",
       "      <td>255.000000</td>\n",
       "    </tr>\n",
       "    <tr>\n",
       "      <th>25%</th>\n",
       "      <td>866.400024</td>\n",
       "      <td>43.000000</td>\n",
       "      <td>862.900024</td>\n",
       "      <td>872.799988</td>\n",
       "      <td>857.400024</td>\n",
       "    </tr>\n",
       "    <tr>\n",
       "      <th>50%</th>\n",
       "      <td>1250.800049</td>\n",
       "      <td>319.000000</td>\n",
       "      <td>1250.700000</td>\n",
       "      <td>1256.900024</td>\n",
       "      <td>1243.599976</td>\n",
       "    </tr>\n",
       "    <tr>\n",
       "      <th>75%</th>\n",
       "      <td>1453.600000</td>\n",
       "      <td>122724.000000</td>\n",
       "      <td>1456.900024</td>\n",
       "      <td>1462.500000</td>\n",
       "      <td>1446.700000</td>\n",
       "    </tr>\n",
       "    <tr>\n",
       "      <th>max</th>\n",
       "      <td>2069.400000</td>\n",
       "      <td>787217.000000</td>\n",
       "      <td>2076.400000</td>\n",
       "      <td>2082.100000</td>\n",
       "      <td>2049.000000</td>\n",
       "    </tr>\n",
       "  </tbody>\n",
       "</table>\n",
       "</div>"
      ],
      "text/plain": [
       "             Close         Volume         Open         High          Low\n",
       "count  7713.000000    7713.000000  7713.000000  7713.000000  7713.000000\n",
       "mean   1155.235226   62075.024115  1155.391793  1161.947206  1148.388280\n",
       "std     471.495071  102180.191771   471.663195   474.882330   467.988318\n",
       "min     255.100006       0.000000   255.000000   256.100006   255.000000\n",
       "25%     866.400024      43.000000   862.900024   872.799988   857.400024\n",
       "50%    1250.800049     319.000000  1250.700000  1256.900024  1243.599976\n",
       "75%    1453.600000  122724.000000  1456.900024  1462.500000  1446.700000\n",
       "max    2069.400000  787217.000000  2076.400000  2082.100000  2049.000000"
      ]
     },
     "execution_count": 15,
     "metadata": {},
     "output_type": "execute_result"
    }
   ],
   "source": [
    "data.describe()"
   ]
  },
  {
   "cell_type": "markdown",
   "id": "9d7c9c68",
   "metadata": {},
   "source": [
    "# Graph Plotting"
   ]
  },
  {
   "cell_type": "code",
   "execution_count": 16,
   "id": "6244bff5",
   "metadata": {},
   "outputs": [
    {
     "data": {
      "text/plain": [
       "<Axes: >"
      ]
     },
     "execution_count": 16,
     "metadata": {},
     "output_type": "execute_result"
    },
    {
     "data": {
      "image/png": "[encoded data removed]",
      "text/plain": [
       "<Figure size 640x480 with 2 Axes>"
      ]
     },
     "metadata": {},
     "output_type": "display_data"
    }
   ],
   "source": [
    "#Number of Null Data in datasets\n",
    "sns.heatmap(data.isnull(), yticklabels=False, cmap='coolwarm')"
   ]
  },
  {
   "cell_type": "code",
   "execution_count": 17,
   "id": "e522f962",
   "metadata": {},
   "outputs": [
    {
     "name": "stderr",
     "output_type": "stream",
     "text": [
      "C:\\Users\\SHASHANK K\\AppData\\Local\\Temp\\ipykernel_16672\\341033998.py:1: UserWarning: \n",
      "\n",
      "`distplot` is a deprecated function and will be removed in seaborn v0.14.0.\n",
      "\n",
      "Please adapt your code to use either `displot` (a figure-level function with\n",
      "similar flexibility) or `histplot` (an axes-level function for histograms).\n",
      "\n",
      "For a guide to updating your code to use the new functions, please see\n",
      "https://gist.github.com/mwaskom/de44147ed2974457ad6372750bbe5751\n",
      "\n",
      "  sns.distplot(data['High'],color='purple')\n"
     ]
    },
    {
     "data": {
      "text/plain": [
       "<Axes: xlabel='High', ylabel='Density'>"
      ]
     },
     "execution_count": 17,
     "metadata": {},
     "output_type": "execute_result"
    },
    {
     "data": {
      "image/png": "[encoded data removed]",
      "text/plain": [
       "<Figure size 640x480 with 1 Axes>"
      ]
     },
     "metadata": {},
     "output_type": "display_data"
    }
   ],
   "source": [
    "sns.distplot(data['High'],color='purple')"
   ]
  },
  {
   "cell_type": "markdown",
   "id": "8339ad9e",
   "metadata": {},
   "source": [
    "# Machine Learning Modelling"
   ]
  },
  {
   "cell_type": "code",
   "execution_count": 18,
   "id": "8651ee8b",
   "metadata": {},
   "outputs": [
    {
     "data": {
      "text/html": [
       "<div>\n",
       "<style scoped>\n",
       "    .dataframe tbody tr th:only-of-type {\n",
       "        vertical-align: middle;\n",
       "    }\n",
       "\n",
       "    .dataframe tbody tr th {\n",
       "        vertical-align: top;\n",
       "    }\n",
       "\n",
       "    .dataframe thead th {\n",
       "        text-align: right;\n",
       "    }\n",
       "</style>\n",
       "<table border=\"1\" class=\"dataframe\">\n",
       "  <thead>\n",
       "    <tr style=\"text-align: right;\">\n",
       "      <th></th>\n",
       "      <th>Date</th>\n",
       "      <th>Close</th>\n",
       "      <th>Volume</th>\n",
       "      <th>Open</th>\n",
       "      <th>High</th>\n",
       "      <th>Low</th>\n",
       "    </tr>\n",
       "  </thead>\n",
       "  <tbody>\n",
       "    <tr>\n",
       "      <th>0</th>\n",
       "      <td>8/30/2000</td>\n",
       "      <td>273.899994</td>\n",
       "      <td>0.0</td>\n",
       "      <td>273.899994</td>\n",
       "      <td>273.899994</td>\n",
       "      <td>273.899994</td>\n",
       "    </tr>\n",
       "    <tr>\n",
       "      <th>1</th>\n",
       "      <td>8/31/2000</td>\n",
       "      <td>278.299988</td>\n",
       "      <td>0.0</td>\n",
       "      <td>274.799988</td>\n",
       "      <td>278.299988</td>\n",
       "      <td>274.799988</td>\n",
       "    </tr>\n",
       "    <tr>\n",
       "      <th>2</th>\n",
       "      <td>9/1/2000</td>\n",
       "      <td>277.000000</td>\n",
       "      <td>0.0</td>\n",
       "      <td>277.000000</td>\n",
       "      <td>277.000000</td>\n",
       "      <td>277.000000</td>\n",
       "    </tr>\n",
       "    <tr>\n",
       "      <th>4</th>\n",
       "      <td>9/5/2000</td>\n",
       "      <td>275.799988</td>\n",
       "      <td>2.0</td>\n",
       "      <td>275.799988</td>\n",
       "      <td>275.799988</td>\n",
       "      <td>275.799988</td>\n",
       "    </tr>\n",
       "    <tr>\n",
       "      <th>5</th>\n",
       "      <td>9/6/2000</td>\n",
       "      <td>274.200012</td>\n",
       "      <td>0.0</td>\n",
       "      <td>274.200012</td>\n",
       "      <td>274.200012</td>\n",
       "      <td>274.200012</td>\n",
       "    </tr>\n",
       "    <tr>\n",
       "      <th>...</th>\n",
       "      <td>...</td>\n",
       "      <td>...</td>\n",
       "      <td>...</td>\n",
       "      <td>...</td>\n",
       "      <td>...</td>\n",
       "      <td>...</td>\n",
       "    </tr>\n",
       "    <tr>\n",
       "      <th>7859</th>\n",
       "      <td>10/24/2022</td>\n",
       "      <td>1654.100000</td>\n",
       "      <td>167448.0</td>\n",
       "      <td>1662.900000</td>\n",
       "      <td>1675.500000</td>\n",
       "      <td>1648.000000</td>\n",
       "    </tr>\n",
       "    <tr>\n",
       "      <th>7860</th>\n",
       "      <td>10/25/2022</td>\n",
       "      <td>1658.000000</td>\n",
       "      <td>178706.0</td>\n",
       "      <td>1654.500000</td>\n",
       "      <td>1666.800000</td>\n",
       "      <td>1641.200000</td>\n",
       "    </tr>\n",
       "    <tr>\n",
       "      <th>7861</th>\n",
       "      <td>10/26/2022</td>\n",
       "      <td>1669.200000</td>\n",
       "      <td>183453.0</td>\n",
       "      <td>1657.700000</td>\n",
       "      <td>1679.400000</td>\n",
       "      <td>1653.800000</td>\n",
       "    </tr>\n",
       "    <tr>\n",
       "      <th>7862</th>\n",
       "      <td>10/27/2022</td>\n",
       "      <td>1668.800000</td>\n",
       "      <td>180599.0</td>\n",
       "      <td>1668.800000</td>\n",
       "      <td>1674.800000</td>\n",
       "      <td>1658.500000</td>\n",
       "    </tr>\n",
       "    <tr>\n",
       "      <th>7863</th>\n",
       "      <td>10/28/2022</td>\n",
       "      <td>1648.300000</td>\n",
       "      <td>186519.0</td>\n",
       "      <td>1667.200000</td>\n",
       "      <td>1670.900000</td>\n",
       "      <td>1640.700000</td>\n",
       "    </tr>\n",
       "  </tbody>\n",
       "</table>\n",
       "<p>7713 rows × 6 columns</p>\n",
       "</div>"
      ],
      "text/plain": [
       "            Date        Close    Volume         Open         High          Low\n",
       "0      8/30/2000   273.899994       0.0   273.899994   273.899994   273.899994\n",
       "1      8/31/2000   278.299988       0.0   274.799988   278.299988   274.799988\n",
       "2       9/1/2000   277.000000       0.0   277.000000   277.000000   277.000000\n",
       "4       9/5/2000   275.799988       2.0   275.799988   275.799988   275.799988\n",
       "5       9/6/2000   274.200012       0.0   274.200012   274.200012   274.200012\n",
       "...          ...          ...       ...          ...          ...          ...\n",
       "7859  10/24/2022  1654.100000  167448.0  1662.900000  1675.500000  1648.000000\n",
       "7860  10/25/2022  1658.000000  178706.0  1654.500000  1666.800000  1641.200000\n",
       "7861  10/26/2022  1669.200000  183453.0  1657.700000  1679.400000  1653.800000\n",
       "7862  10/27/2022  1668.800000  180599.0  1668.800000  1674.800000  1658.500000\n",
       "7863  10/28/2022  1648.300000  186519.0  1667.200000  1670.900000  1640.700000\n",
       "\n",
       "[7713 rows x 6 columns]"
      ]
     },
     "execution_count": 18,
     "metadata": {},
     "output_type": "execute_result"
    }
   ],
   "source": [
    "data"
   ]
  },
  {
   "cell_type": "code",
   "execution_count": 19,
   "id": "458cfe4a",
   "metadata": {},
   "outputs": [],
   "source": [
    "X = data.loc[:7713, ['Close', 'Volume', 'Open']]\n",
    "Y = data.loc[:7713, ['High']]"
   ]
  },
  {
   "cell_type": "code",
   "execution_count": null,
   "id": "f7f961b1",
   "metadata": {},
   "outputs": [],
   "source": []
  },
  {
   "cell_type": "code",
   "execution_count": 20,
   "id": "6e81fa1a",
   "metadata": {},
   "outputs": [],
   "source": [
    "X_train, X_test, Y_train, Y_test = train_test_split(X, Y, test_size = 0.1, random_state=2)"
   ]
  },
  {
   "cell_type": "code",
   "execution_count": 21,
   "id": "bda8eca1",
   "metadata": {},
   "outputs": [
    {
     "name": "stdout",
     "output_type": "stream",
     "text": [
      "(6809, 3)\n",
      "(757, 3)\n",
      "(6809, 1)\n",
      "(757, 1)\n"
     ]
    }
   ],
   "source": [
    "print(X_train.shape)\n",
    "print(X_test.shape)\n",
    "print(Y_train.shape)\n",
    "print(Y_test.shape) "
   ]
  },
  {
   "cell_type": "code",
   "execution_count": 22,
   "id": "912946c5",
   "metadata": {},
   "outputs": [],
   "source": [
    "regressor = RandomForestRegressor(n_estimators=100)"
   ]
  },
  {
   "cell_type": "code",
   "execution_count": 23,
   "id": "97da3208",
   "metadata": {},
   "outputs": [
    {
     "name": "stderr",
     "output_type": "stream",
     "text": [
      "c:\\users\\shashank k\\appdata\\local\\programs\\python\\python38\\lib\\site-packages\\sklearn\\base.py:1151: DataConversionWarning: A column-vector y was passed when a 1d array was expected. Please change the shape of y to (n_samples,), for example using ravel().\n",
      "  return fit_method(estimator, *args, **kwargs)\n"
     ]
    },
    {
     "data": {
      "text/html": [
       "<style>#sk-container-id-1 {color: black;}#sk-container-id-1 pre{padding: 0;}#sk-container-id-1 div.sk-toggleable {background-color: white;}#sk-container-id-1 label.sk-toggleable__label {cursor: pointer;display: block;width: 100%;margin-bottom: 0;padding: 0.3em;box-sizing: border-box;text-align: center;}#sk-container-id-1 label.sk-toggleable__label-arrow:before {content: \"▸\";float: left;margin-right: 0.25em;color: #696969;}#sk-container-id-1 label.sk-toggleable__label-arrow:hover:before {color: black;}#sk-container-id-1 div.sk-estimator:hover label.sk-toggleable__label-arrow:before {color: black;}#sk-container-id-1 div.sk-toggleable__content {max-height: 0;max-width: 0;overflow: hidden;text-align: left;background-color: #f0f8ff;}#sk-container-id-1 div.sk-toggleable__content pre {margin: 0.2em;color: black;border-radius: 0.25em;background-color: #f0f8ff;}#sk-container-id-1 input.sk-toggleable__control:checked~div.sk-toggleable__content {max-height: 200px;max-width: 100%;overflow: auto;}#sk-container-id-1 input.sk-toggleable__control:checked~label.sk-toggleable__label-arrow:before {content: \"▾\";}#sk-container-id-1 div.sk-estimator input.sk-toggleable__control:checked~label.sk-toggleable__label {background-color: #d4ebff;}#sk-container-id-1 div.sk-label input.sk-toggleable__control:checked~label.sk-toggleable__label {background-color: #d4ebff;}#sk-container-id-1 input.sk-hidden--visually {border: 0;clip: rect(1px 1px 1px 1px);clip: rect(1px, 1px, 1px, 1px);height: 1px;margin: -1px;overflow: hidden;padding: 0;position: absolute;width: 1px;}#sk-container-id-1 div.sk-estimator {font-family: monospace;background-color: #f0f8ff;border: 1px dotted black;border-radius: 0.25em;box-sizing: border-box;margin-bottom: 0.5em;}#sk-container-id-1 div.sk-estimator:hover {background-color: #d4ebff;}#sk-container-id-1 div.sk-parallel-item::after {content: \"\";width: 100%;border-bottom: 1px solid gray;flex-grow: 1;}#sk-container-id-1 div.sk-label:hover label.sk-toggleable__label {background-color: #d4ebff;}#sk-container-id-1 div.sk-serial::before {content: \"\";position: absolute;border-left: 1px solid gray;box-sizing: border-box;top: 0;bottom: 0;left: 50%;z-index: 0;}#sk-container-id-1 div.sk-serial {display: flex;flex-direction: column;align-items: center;background-color: white;padding-right: 0.2em;padding-left: 0.2em;position: relative;}#sk-container-id-1 div.sk-item {position: relative;z-index: 1;}#sk-container-id-1 div.sk-parallel {display: flex;align-items: stretch;justify-content: center;background-color: white;position: relative;}#sk-container-id-1 div.sk-item::before, #sk-container-id-1 div.sk-parallel-item::before {content: \"\";position: absolute;border-left: 1px solid gray;box-sizing: border-box;top: 0;bottom: 0;left: 50%;z-index: -1;}#sk-container-id-1 div.sk-parallel-item {display: flex;flex-direction: column;z-index: 1;position: relative;background-color: white;}#sk-container-id-1 div.sk-parallel-item:first-child::after {align-self: flex-end;width: 50%;}#sk-container-id-1 div.sk-parallel-item:last-child::after {align-self: flex-start;width: 50%;}#sk-container-id-1 div.sk-parallel-item:only-child::after {width: 0;}#sk-container-id-1 div.sk-dashed-wrapped {border: 1px dashed gray;margin: 0 0.4em 0.5em 0.4em;box-sizing: border-box;padding-bottom: 0.4em;background-color: white;}#sk-container-id-1 div.sk-label label {font-family: monospace;font-weight: bold;display: inline-block;line-height: 1.2em;}#sk-container-id-1 div.sk-label-container {text-align: center;}#sk-container-id-1 div.sk-container {/* jupyter's `normalize.less` sets `[hidden] { display: none; }` but bootstrap.min.css set `[hidden] { display: none !important; }` so we also need the `!important` here to be able to override the default hidden behavior on the sphinx rendered scikit-learn.org. See: https://github.com/scikit-learn/scikit-learn/issues/21755 */display: inline-block !important;position: relative;}#sk-container-id-1 div.sk-text-repr-fallback {display: none;}</style><div id=\"sk-container-id-1\" class=\"sk-top-container\"><div class=\"sk-text-repr-fallback\"><pre>RandomForestRegressor()</pre><b>In a Jupyter environment, please rerun this cell to show the HTML representation or trust the notebook. <br />On GitHub, the HTML representation is unable to render, please try loading this page with nbviewer.org.</b></div><div class=\"sk-container\" hidden><div class=\"sk-item\"><div class=\"sk-estimator sk-toggleable\"><input class=\"sk-toggleable__control sk-hidden--visually\" id=\"sk-estimator-id-1\" type=\"checkbox\" checked><label for=\"sk-estimator-id-1\" class=\"sk-toggleable__label sk-toggleable__label-arrow\">RandomForestRegressor</label><div class=\"sk-toggleable__content\"><pre>RandomForestRegressor()</pre></div></div></div></div></div>"
      ],
      "text/plain": [
       "RandomForestRegressor()"
      ]
     },
     "execution_count": 23,
     "metadata": {},
     "output_type": "execute_result"
    }
   ],
   "source": [
    "regressor.fit(X_train,Y_train)"
   ]
  },
  {
   "cell_type": "code",
   "execution_count": 24,
   "id": "fb45bc46",
   "metadata": {},
   "outputs": [],
   "source": [
    "test_data_prediction = regressor.predict(X_test)"
   ]
  },
  {
   "cell_type": "code",
   "execution_count": 25,
   "id": "4a92fa46",
   "metadata": {},
   "outputs": [
    {
     "data": {
      "text/plain": [
       "array([1234.59401222, 1583.40274735, 1959.25199346, 1264.32701075,\n",
       "       1278.57300001, 1296.9650112 , 1218.55201479, 1416.2469793 ,\n",
       "       1003.85198692, 1184.59800005, 1817.99001166,  409.94399514,\n",
       "       1342.24399316,  734.40099376, 1247.27800195,  995.19400744,\n",
       "       1405.43297098, 1248.67600145, 1299.49799854,  348.09300588,\n",
       "       1261.68700047,  658.94299628,  836.27200192, 1851.05300072,\n",
       "       1521.37599771,  865.960006  , 1291.06100864, 1322.31799632,\n",
       "       1259.47100146, 1723.97100568, 1670.06000004,  927.67200612,\n",
       "       1417.20799679, 1143.5180147 , 1682.21901009,  925.65799808,\n",
       "        267.99399964,  320.50699802, 1214.05899401, 1313.26700739,\n",
       "       1070.58398671,  933.26299748, 1317.98699496, 1206.26701451,\n",
       "       1236.29999321, 1328.18699929, 1112.66401092,  961.02100396,\n",
       "       1259.36499778, 1704.29599949, 1779.95200593, 1665.32799497,\n",
       "       1366.20100048,  261.57099286, 1235.50898433, 1162.87400764,\n",
       "        318.44400624, 1208.52199639, 1904.73000193,  365.6549997 ,\n",
       "        378.17100006, 1125.75999735,  912.30798848, 1250.84199467,\n",
       "       1290.90998998, 1236.49400148, 1226.92599845,  397.12      ,\n",
       "       1285.38700402, 1400.40599682, 1349.24198425, 1267.918011  ,\n",
       "       1700.56600314,  336.20200252,  407.49099916, 1094.22399179,\n",
       "       1313.24799999, 1286.96299325, 1211.32199642, 1763.05999296,\n",
       "        426.9050078 , 1333.10699383, 1502.49200986, 1394.5269976 ,\n",
       "       1642.85001032, 1896.49100086, 1288.16499976, 1323.33299885,\n",
       "       1225.58400194,  427.06800048, 1832.28899779,  347.20200762,\n",
       "       1563.48798567, 1436.81499529, 1227.42301704,  293.43800228,\n",
       "        628.86099736,  353.45800768, 1300.78699844, 1512.68699579,\n",
       "       1904.26700217, 1229.22099854, 1330.09301325,  931.01899484,\n",
       "       1072.17698775, 1202.22400295, 1155.12500293, 1092.14500325,\n",
       "        645.10300168, 1294.40900694, 1245.47199654, 1320.45500487,\n",
       "        270.8350021 ,  919.41699772, 1206.54100213, 1305.33500025,\n",
       "       1205.32300487, 1249.56000049,  648.48299208,  554.77699952,\n",
       "        267.69300078, 1343.49902152, 1333.80699287, 1716.90567465,\n",
       "        382.31600066, 1259.01500102, 1212.48301276, 1794.09900836,\n",
       "        825.57299328,  667.08798908, 1336.20400023, 1231.0199983 ,\n",
       "       1317.23500024,  424.29100216,  361.49799718, 1316.46699994,\n",
       "       1181.10799909,  666.97298668, 1347.84899715,  364.01900324,\n",
       "       1093.09200399, 1128.1509848 , 1789.02399926, 1270.07500671,\n",
       "       1282.74601079, 1272.49800024,  586.98400024, 1342.78899068,\n",
       "        401.98900024,  418.63300018, 1219.84000363, 1147.64099325,\n",
       "       1242.88400096, 1230.71701172,  978.86199292,  633.50699232,\n",
       "       1806.88098896, 1504.19500465, 1574.14100169, 1773.00799559,\n",
       "       1749.7156605 ,  304.91399934, 1138.62899126, 1141.07999837,\n",
       "        985.8800072 ,  888.19799628, 1792.96299683, 1250.66902475,\n",
       "        590.20300468,  923.83599556,  259.0350018 , 1590.89701326,\n",
       "       1138.10199855,  882.48700012,  665.135009  ,  962.555     ,\n",
       "       1207.44599786, 1294.97699848, 1791.68899804, 1370.279001  ,\n",
       "       1315.01800081, 1504.1726091 , 1565.84998278, 1331.76200821,\n",
       "       1243.28999187,  864.91699772,  321.75600096, 1312.80500463,\n",
       "        279.70100366, 1320.2600005 , 1108.05899672, 1737.44201193,\n",
       "       1895.5020083 ,  824.91300108, 1202.48699126, 1335.4680091 ,\n",
       "       1508.57500198, 1291.57698658, 1126.16600824,  679.72099016,\n",
       "       1581.29275418,  379.5449991 , 1272.51199639, 1684.17501029,\n",
       "       1460.99300487, 1111.63999178, 1762.73298519, 1820.06800097,\n",
       "        287.52599736, 1349.7200001 , 1880.70200245, 1375.44500095,\n",
       "        365.39100456,  272.25399634, 1269.18399994,  907.03300108,\n",
       "       1292.76899735,  865.63798968, 1078.94199748,  421.39800108,\n",
       "        407.90200072, 1292.11098435,  908.77200612,  369.37200342,\n",
       "       1239.22099077, 1286.97299439, 1869.39500094,  275.0150018 ,\n",
       "       1321.88100613, 1580.34199842, 1532.18599007,  277.88299298,\n",
       "       1744.09799686, 1279.42299554, 1234.08998849,  630.30400144,\n",
       "       1162.87800291,  419.57400024,  353.56100036, 1080.77700061,\n",
       "       1526.24898878,  429.96199382, 1289.23499581,  935.26700312,\n",
       "       1312.09199729,  641.8250006 ,  315.7099949 , 1709.91798959,\n",
       "       1847.78799064, 1320.53898826,  291.54800048, 1222.46601134,\n",
       "       1320.74497946, 1662.0910179 , 1258.49299613,  622.6850006 ,\n",
       "       1066.73600137, 1206.18200195, 1265.8599965 ,  438.83600186,\n",
       "       1356.74901371,  658.33600636, 1473.4940315 ,  275.8499988 ,\n",
       "       1249.34999951,  271.18900414, 1718.50267848, 1410.98299171,\n",
       "        688.9349964 , 1961.79500098,  309.04300348, 1739.24500149,\n",
       "        643.45900084, 1166.08899927, 1323.69697598,  313.15900654,\n",
       "        434.98199802,  930.93799748, 1222.91500582,  268.60399844,\n",
       "       1280.21399693,  422.41399994, 1297.81700024, 1255.51899465,\n",
       "       1390.28200734, 1792.84199732, 1210.04799788, 1288.87599757,\n",
       "       1155.61800295,  552.26100636, 1781.23200663, 1648.24399851,\n",
       "       1008.83799748, 1281.98499838,  879.27099136, 1292.7269878 ,\n",
       "       1602.98801495,  626.41600156,  421.34299868, 1318.17999879,\n",
       "       1909.9060116 , 1175.35601381, 1289.60099587,  467.7549949 ,\n",
       "       1339.92601413, 1659.18500346,  636.33400804, 1343.10201318,\n",
       "       1349.61200834, 1702.74098961, 1286.43200245, 1265.34899979,\n",
       "       1323.65700086, 1269.13800583, 1616.67499105, 1197.40600243,\n",
       "       1349.80599744, 1492.0430207 , 1163.49100403, 1806.90701913,\n",
       "       1201.68198924, 1828.70500239, 1134.41600165,  269.97900114,\n",
       "       1850.10999215,  395.87399604, 1190.93999692, 1802.15100073,\n",
       "        616.70600276,  489.34700102, 1291.69302045, 1415.71599356,\n",
       "       1721.55100347, 1615.04999561, 1342.58099605, 1236.06098041,\n",
       "       1666.10100318, 1472.97899273, 1496.16699944, 1498.49700453,\n",
       "       1275.16799115, 1263.10000335,  403.5800012 , 1639.63699341,\n",
       "       1335.71899975,  328.85799478, 1165.95900352, 1869.5170169 ,\n",
       "       1572.05599553, 1605.12900248,  563.94800048,  362.17800018,\n",
       "        789.92299748,  946.94099676, 1479.74201208, 1744.68102278,\n",
       "        795.01799628, 1292.26200073, 1222.8320078 ,  540.44600156,\n",
       "       1353.85799435, 1288.80199903,  349.64800138, 1409.4430074 ,\n",
       "        269.45799628,  942.2200012 , 1489.85999044, 1160.89501948,\n",
       "        489.17700102, 1386.91200409,  826.23799688,  799.54200012,\n",
       "       1462.86800991,  812.6300072 ,  442.07200282, 1439.93798179,\n",
       "        334.13100066, 1234.66900332, 1188.79500073, 1139.47599592,\n",
       "       1738.43700056,  584.65600096, 1314.47201057, 1101.34797576,\n",
       "       1211.76799901,  267.58399994, 1746.12299574, 1344.28901934,\n",
       "       1733.87799043, 1508.82986245, 1197.95299363, 1821.00102179,\n",
       "        429.97700042,  374.38099976, 1333.93700338, 1160.36999473,\n",
       "       1358.75999971, 1463.23399296,  326.23299568, 1424.51301471,\n",
       "       1899.63100341, 1842.42699503, 1258.21099847,  757.58798788,\n",
       "        322.46099826, 1929.66700049,  266.4399964 , 1204.76200057,\n",
       "        996.87700192,  382.3849991 , 1615.24699288, 1146.88201011,\n",
       "        442.69099976, 1201.78599804, 1290.89299338, 1657.43199341,\n",
       "       1287.0040017 , 1286.95699777, 1662.84099672, 1587.52099977,\n",
       "        397.43899394, 1423.17299758, 1636.58597032, 1394.87899119,\n",
       "        415.02199382, 1296.32899902,  911.37700372, 1197.02000052,\n",
       "       1305.51699976, 1782.09100563,  424.58      , 1237.99800026,\n",
       "       1602.75799323,  801.2050036 , 1928.31100025, 1301.85596379,\n",
       "       1679.43700455, 1275.09398056,  365.9000006 , 1445.79700124,\n",
       "       1397.07799956,  417.68100006, 1723.49400464, 1644.88800107,\n",
       "       1223.22000123, 1249.95999859, 1721.83602425, 1323.64699389,\n",
       "       1207.14998783,  924.36899364,  429.31100336, 1229.25100753,\n",
       "       1546.30100365, 1052.96000491,  455.88900054, 1295.80299585,\n",
       "       1816.82100439, 1294.24801067, 1840.12200565, 1280.48700569,\n",
       "        399.9699967 , 1279.46900173, 1285.23600942, 1137.25200269,\n",
       "        435.07299808, 1312.2339929 ,  721.79599016,  291.16600336,\n",
       "       1205.68298974, 1320.45300122, 1275.35299781, 1324.03699493,\n",
       "        601.30299388, 1854.45800512, 1301.22999701, 1319.80899928,\n",
       "       1965.52900048, 1232.9669944 , 1369.71998141, 1122.84200803,\n",
       "       1094.12000992, 1304.40999758,  951.68600156, 1645.61201534,\n",
       "       1123.24600805, 1315.36899775, 1811.9149995 , 1211.22000527,\n",
       "       1314.57600569,  439.09399994, 1435.49001496,  304.50799748,\n",
       "       1885.08899789, 1877.46399218, 1319.84399885, 1268.74102548,\n",
       "       1233.3919976 ,  650.15100096,  396.3400015 , 1813.77599902,\n",
       "       1192.69300155, 1165.96000496, 1505.22199631, 1414.30998523,\n",
       "        427.23899994,  657.8750066 , 1250.26799351,  670.99399904,\n",
       "        846.58699952, 1105.2989969 , 1334.29399553, 1333.95699632,\n",
       "        899.78599256, 1617.35800177,  689.89799568, 1159.7850182 ,\n",
       "        979.3999952 , 1616.91800177, 1257.39598316, 1322.39698608,\n",
       "       1323.64301015, 1348.88599979, 1732.78299391,  858.79300408,\n",
       "        274.36600276, 1835.90299944,  657.97100276, 1497.07600952,\n",
       "       1734.80898415, 1324.96100553,  407.5550003 ,  819.92700372,\n",
       "       1770.18799441, 1223.5340146 , 1272.56900071, 1262.95100393,\n",
       "        809.18399304, 1503.6649694 , 1227.76999782, 1876.20000195,\n",
       "       1098.31899996, 1476.26499736, 1263.9720005 , 1236.01800049,\n",
       "       1829.14501592, 1159.58000024, 1771.03900987, 1774.18701836,\n",
       "       1368.67099755, 1351.77299931, 1178.79200904, 1512.12899522,\n",
       "       1244.36301076, 1123.71801563, 1809.31201103, 1307.7029959 ,\n",
       "       1240.03000351, 1380.97400548, 1750.13701668, 1402.92400788,\n",
       "       1200.45999659, 1080.26000044, 1263.46800075, 1801.79399951,\n",
       "       1344.10600201,  626.91098836, 1190.06000632, 1318.3620036 ,\n",
       "       1216.46799367, 1823.25201652, 1856.81897851, 1290.85400321,\n",
       "       1228.21199056,  866.14699952, 1093.14298379, 1988.85900343,\n",
       "       1778.22397604, 1257.76300677,  295.22200462, 1370.11300001,\n",
       "       1877.66600784, 1286.47399889,  341.56399814, 1730.99099603,\n",
       "        259.5050006 ,  387.6950012 ,  847.86899304,  422.05899814,\n",
       "        984.82800108, 1258.12199976, 1391.9989955 , 1490.62716912,\n",
       "        868.8849988 ,  274.47199952, 1335.84299558,  272.7500009 ,\n",
       "       1097.93400478, 1283.76199596,  276.91400564, 1304.09700052,\n",
       "       1263.77999664, 1568.68698438,  372.91099856,  327.00299868,\n",
       "        666.48899004,  470.35099646,  424.13199742, 1747.42001469,\n",
       "        427.60299898,  383.47399874, 1968.77200145,  957.64099856,\n",
       "       1902.81299688,  427.18100306, 1433.53749931, 1868.05299584,\n",
       "       1203.53900398,  265.50699832, 1250.28399895, 1754.95600784,\n",
       "        588.60699592, 1372.08601334,  664.29200912, 1657.27601198,\n",
       "       1191.87400223,  900.91599616, 1242.97299976, 1231.56799976,\n",
       "       1111.37399604, 1302.90700556,  641.23199712, 1245.13200194,\n",
       "       1281.37700146,  298.44100366,  363.57099946,  891.3449976 ,\n",
       "        670.28400144, 1261.69099894, 1921.31999981, 1661.33402341,\n",
       "       1766.03898922,  417.39399574, 1285.37399472, 1093.1809954 ,\n",
       "       1237.07201171,  390.55799868, 1284.85700267, 1318.30799807,\n",
       "        832.6650084 , 1318.34600191, 1304.80798655,  274.20300378,\n",
       "       1289.12500023, 1322.98000204, 1821.92000534, 1129.21801473,\n",
       "        292.77299058, 1312.49099378,  287.30299538,  806.84199292,\n",
       "       1671.18401351, 1900.18800119, 1330.72899856,  394.46899424,\n",
       "        313.1049985 , 1328.46301563,  825.39700372, 1071.12397335,\n",
       "       1322.52000151,  407.2850009 , 1615.84600102,  262.0349988 ,\n",
       "        671.86399904, 1599.79300968, 1312.03597571, 1761.37300508,\n",
       "        554.09700012, 1525.73397625, 1564.88497296, 1721.931021  ,\n",
       "        266.1899979 , 1835.55899977, 1377.69300112, 1287.9290058 ,\n",
       "       1313.02099086, 1394.19900939, 1295.90100092, 1645.63102522,\n",
       "       1086.54900908, 1297.13099375,  273.12400444, 1135.85498769,\n",
       "        446.3550009 , 1665.72302368, 1351.18199859, 1229.86498586,\n",
       "       1718.71067194, 1229.55301774, 1969.30500895, 1818.47901075,\n",
       "       1843.21200443,  735.43400564,  405.62200072, 1245.00902821,\n",
       "       1785.04499121,  673.91299688,  623.98899244,  367.77100156,\n",
       "       1744.98400172, 1688.08200243, 1925.34499022, 1194.63400846,\n",
       "       1394.17198774, 1211.17598765, 1252.79700354, 1807.50601411,\n",
       "        894.87100816,  315.18599916, 1078.99499839, 1297.38199583,\n",
       "       1077.63601129, 1248.1570044 , 1356.05999189,  554.93800048,\n",
       "        436.72899874, 1257.70999621, 1615.06301253,  650.1700018 ,\n",
       "       1281.11200024, 1331.65000832, 1256.25400678,  949.89399844,\n",
       "       1259.51299941, 1583.06400246,  420.93800438, 1784.38099704,\n",
       "        477.37799328, 1320.32998479, 1797.933     ,  545.24799328,\n",
       "       1819.41000049,  543.49300408,  311.53100246, 1806.16400438,\n",
       "        804.48099796,  658.27801188,  320.43099766,  631.72300048,\n",
       "        917.84799988,  318.14099976, 1260.282001  ,  782.4700048 ,\n",
       "        671.17599676, 1297.91200269,  260.19300108, 1709.78300221,\n",
       "        261.98399454])"
      ]
     },
     "execution_count": 25,
     "metadata": {},
     "output_type": "execute_result"
    }
   ],
   "source": [
    "test_data_prediction"
   ]
  },
  {
   "cell_type": "code",
   "execution_count": 26,
   "id": "75478dbc",
   "metadata": {},
   "outputs": [
    {
     "name": "stdout",
     "output_type": "stream",
     "text": [
      "R squared error :  0.9998970510134565\n"
     ]
    }
   ],
   "source": [
    "error_score = metrics.r2_score(Y_test, test_data_prediction)\n",
    "print(\"R squared error : \", error_score)"
   ]
  },
  {
   "cell_type": "code",
   "execution_count": 27,
   "id": "1fb4ae64",
   "metadata": {},
   "outputs": [
    {
     "name": "stdout",
     "output_type": "stream",
     "text": [
      "This Model scores: 99.99% accuracy\n"
     ]
    }
   ],
   "source": [
    "print(f\"This Model scores: {round((error_score)*100, 2)}% accuracy\")"
   ]
  },
  {
   "cell_type": "code",
   "execution_count": 28,
   "id": "150eaf61",
   "metadata": {},
   "outputs": [
    {
     "name": "stderr",
     "output_type": "stream",
     "text": [
      "c:\\users\\shashank k\\appdata\\local\\programs\\python\\python38\\lib\\site-packages\\sklearn\\base.py:464: UserWarning: X does not have valid feature names, but RandomForestRegressor was fitted with feature names\n",
      "  warnings.warn(\n"
     ]
    },
    {
     "data": {
      "text/plain": [
       "array([1672.84600591])"
      ]
     },
     "execution_count": 28,
     "metadata": {},
     "output_type": "execute_result"
    }
   ],
   "source": [
    "sample = [[1660, 2000, 1670]]\n",
    "regressor.predict(sample)"
   ]
  },
  {
   "cell_type": "code",
   "execution_count": null,
   "id": "0daae9d6",
   "metadata": {},
   "outputs": [],
   "source": []
  },
  {
   "cell_type": "code",
   "execution_count": null,
   "id": "98bd8c38",
   "metadata": {},
   "outputs": [],
   "source": []
  }
 ],
 "metadata": {
  "kernelspec": {
   "display_name": "Python 3 (ipykernel)",
   "language": "python",
   "name": "python3"
  },
  "language_info": {
   "codemirror_mode": {
    "name": "ipython",
    "version": 3
   },
   "file_extension": ".py",
   "mimetype": "text/x-python",
   "name": "python",
   "nbconvert_exporter": "python",
   "pygments_lexer": "ipython3",
   "version": "3.8.2"
  }
 },
 "nbformat": 4,
 "nbformat_minor": 5
}
